{
 "cells": [
  {
   "cell_type": "code",
   "execution_count": 4,
   "id": "c036411f-0d4d-4495-a406-07084b27ec81",
   "metadata": {},
   "outputs": [],
   "source": [
    "import chemprop"
   ]
  },
  {
   "cell_type": "code",
   "execution_count": 5,
   "id": "09beb623-b15e-4d1e-9fcf-36aab28339c4",
   "metadata": {},
   "outputs": [
    {
     "name": "stdout",
     "output_type": "stream",
     "text": [
      "1.7.0\n"
     ]
    }
   ],
   "source": [
    "print(chemprop.__version__)"
   ]
  },
  {
   "cell_type": "code",
   "execution_count": null,
   "id": "9703d52d-969e-42e5-9ae6-3393dd8748c5",
   "metadata": {},
   "outputs": [],
   "source": []
  }
 ],
 "metadata": {
  "kernelspec": {
   "display_name": "Python 3 (ipykernel)",
   "language": "python",
   "name": "python3"
  },
  "language_info": {
   "codemirror_mode": {
    "name": "ipython",
    "version": 3
   },
   "file_extension": ".py",
   "mimetype": "text/x-python",
   "name": "python",
   "nbconvert_exporter": "python",
   "pygments_lexer": "ipython3",
   "version": "3.8.19"
  }
 },
 "nbformat": 4,
 "nbformat_minor": 5
}
